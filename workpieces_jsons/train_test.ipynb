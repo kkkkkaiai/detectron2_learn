{
 "cells": [
  {
   "cell_type": "code",
   "execution_count": null,
   "id": "e91e7125",
   "metadata": {},
   "outputs": [],
   "source": [
    "# -*- coding:utf-8 -*-\n",
    "# !/usr/bin/env python\n",
    " \n",
    "# 这个文件用来测试是否能够训练"
   ]
  },
  {
   "cell_type": "code",
   "execution_count": null,
   "id": "ca0014b9",
   "metadata": {},
   "outputs": [],
   "source": [
    "import os\n",
    "import random\n",
    "import cv2\n",
    "import tqdm\n",
    "import torch\n",
    "from detectron2.utils.video_visualizer import VideoVisualizer\n",
    "from detectron2.engine import DefaultTrainer\n",
    "from detectron2.config import get_cfg\n",
    "from detectron2.engine import DefaultPredictor\n",
    "from detectron2.utils.visualizer import ColorMode, Visualizer\n",
    "from detectron2.data.datasets import register_coco_instances\n",
    "from detectron2.data import MetadataCatalog,DatasetCatalog"
   ]
  },
  {
   "cell_type": "code",
   "execution_count": null,
   "id": "13882263",
   "metadata": {},
   "outputs": [],
   "source": [
    "# CHANGE HERE\n",
    "project = \"workpieces\"\n",
    "yaml_file = \"/detectron2/configs/COCO-Detection/faster_rcnn_R_50_FPN_3x.yaml\"\n",
    "weights = \"detectron2://COCO-Detection/faster_rcnn_R_50_FPN_1x/137257794/model_final_b275ba.pkl\"\n",
    "\n",
    "register_coco_instances(project, {}, \"./trainval.json\", \"./images\")"
   ]
  },
  {
   "cell_type": "code",
   "execution_count": null,
   "id": "eeef8b92",
   "metadata": {},
   "outputs": [],
   "source": [
    "project_metadata = MetadataCatalog.get(project)\n",
    "dataset_dicts = DatasetCatalog.get(project)"
   ]
  },
  {
   "cell_type": "code",
   "execution_count": null,
   "id": "f9091fbf",
   "metadata": {},
   "outputs": [],
   "source": [
    "torch.cuda.empty_cache()\n",
    "print(project_metadata)"
   ]
  },
  {
   "cell_type": "code",
   "execution_count": null,
   "id": "c4f4f845",
   "metadata": {},
   "outputs": [],
   "source": [
    "# 从标签下显示图片\n",
    "for d in random.sample(dataset_dicts, 3):\n",
    "    pass"
   ]
  },
  {
   "cell_type": "code",
   "execution_count": null,
   "id": "8154c7cc",
   "metadata": {},
   "outputs": [],
   "source": [
    "cfg = get_cfg()\n",
    "os.environ['HOME']\n",
    "os.path.expandvars('$HOME')\n",
    "home_path = os.path.expanduser('~')\n",
    "cfg.merge_from_file(\n",
    "    home_path+yaml_file\n",
    ")\n",
    "cfg.DATASETS.TRAIN = (project,)\n",
    "cfg.DATASETS.TEST = ()  # no metrics implemented for this dataset\n",
    "cfg.DATALOADER.NUM_WORKERS = 2\n",
    "cfg.MODEL.WEIGHTS = weights  # initialize from model zoo\n",
    "cfg.SOLVER.IMS_PER_BATCH = 2\n",
    "cfg.SOLVER.BASE_LR = 0.02\n",
    "cfg.SOLVER.MAX_ITER = (\n",
    "    300\n",
    ")  # 300 iterations seems good enough, but you can certainly train longer\n",
    "cfg.MODEL.ROI_HEADS.BATCH_SIZE_PER_IMAGE = (\n",
    "    128\n",
    ")  # faster, and good enough for this toy dataset\n",
    "cfg.MODEL.ROI_HEADS.NUM_CLASSES = 3  # 3 classes (data, fig, hazelnut)\n",
    "\n",
    "os.makedirs(cfg.OUTPUT_DIR, exist_ok=True)\n",
    "\n",
    "# 训练\n",
    "trainer = DefaultTrainer(cfg)\n",
    "trainer.resume_or_load(resume=False)\n",
    "trainer.train()"
   ]
  },
  {
   "source": [
    "# The remain code is for test of predic."
   ],
   "cell_type": "markdown",
   "metadata": {}
  },
  {
   "cell_type": "code",
   "execution_count": null,
   "id": "5c931f83",
   "metadata": {},
   "outputs": [],
   "source": [
    "# predict\n",
    "cfg.MODEL.WEIGHTS = os.path.join(cfg.OUTPUT_DIR, \"model_final.pth\")\n",
    "cfg.MODEL.ROI_HEADS.SCORE_THRESH_TEST = 0.7   # set the testing threshold for this model\n",
    "cfg.DATASETS.TEST = (project, )\n",
    "predictor = DefaultPredictor(cfg)"
   ]
  },
  {
   "cell_type": "code",
   "execution_count": null,
   "id": "22e7bdab",
   "metadata": {},
   "outputs": [],
   "source": [
    "metadata = MetadataCatalog.get(\n",
    "            cfg.DATASETS.TEST[0] if len(cfg.DATASETS.TEST) else \"__unused\")\n",
    "instance_mode = ColorMode.IMAGE\n",
    "cpu_device = torch.device(\"cpu\")\n",
    "predictor = DefaultPredictor(cfg)\n",
    "parallel = False"
   ]
  },
  {
   "cell_type": "code",
   "execution_count": null,
   "id": "1a74d655",
   "metadata": {},
   "outputs": [],
   "source": [
    "def _frame_from_video(video):\n",
    "    while video.isOpened():\n",
    "        success, frame = video.read()\n",
    "        if success:\n",
    "            yield frame\n",
    "        else:\n",
    "            break\n",
    "\n",
    "\n",
    "def run_on_video(video):\n",
    "        \"\"\"\n",
    "        Visualizes predictions on frames of the input video.\n",
    "\n",
    "        Args:\n",
    "            video (cv2.VideoCapture): a :class:`VideoCapture` object, whose source can be\n",
    "                either a webcam or a video file.\n",
    "\n",
    "        Yields:\n",
    "            ndarray: BGR visualizations of each video frame.\n",
    "        \"\"\"\n",
    "        video_visualizer = VideoVisualizer(metadata, instance_mode)\n",
    "\n",
    "        def process_predictions(frame, predictions):\n",
    "            frame = cv2.cvtColor(frame, cv2.COLOR_BGR2RGB)\n",
    "            if \"panoptic_seg\" in predictions:\n",
    "                panoptic_seg, segments_info = predictions[\"panoptic_seg\"]\n",
    "                vis_frame = video_visualizer.draw_panoptic_seg_predictions(\n",
    "                    frame, panoptic_seg.to(cpu_device), segments_info\n",
    "                )\n",
    "            elif \"instances\" in predictions:\n",
    "                predictions = predictions[\"instances\"].to(cpu_device)\n",
    "                vis_frame = video_visualizer.draw_instance_predictions(frame, predictions)\n",
    "            elif \"sem_seg\" in predictions:\n",
    "                vis_frame = video_visualizer.draw_sem_seg(\n",
    "                    frame, predictions[\"sem_seg\"].argmax(dim=0).to(cpu_device)\n",
    "                )\n",
    "\n",
    "            # Converts Matplotlib RGB format to OpenCV BGR format\n",
    "            vis_frame = cv2.cvtColor(vis_frame.get_image(), cv2.COLOR_RGB2BGR)\n",
    "            return vis_frame\n",
    "\n",
    "        frame_gen = _frame_from_video(video)\n",
    "        if parallel:\n",
    "            buffer_size = predictor.default_buffer_size\n",
    "\n",
    "            frame_data = deque()\n",
    "\n",
    "            for cnt, frame in enumerate(frame_gen):\n",
    "                frame_data.append(frame)\n",
    "                predictor.put(frame)\n",
    "\n",
    "                if cnt >= buffer_size:\n",
    "                    frame = frame_data.popleft()\n",
    "                    predictions = predictor.get()\n",
    "                    yield process_predictions(frame, predictions)\n",
    "\n",
    "            while len(frame_data):\n",
    "                frame = frame_data.popleft()\n",
    "                predictions = predictor.get()\n",
    "                yield process_predictions(frame, predictions)\n",
    "        else:\n",
    "            for frame in frame_gen:\n",
    "                yield process_predictions(frame, predictor(frame))"
   ]
  },
  {
   "cell_type": "code",
   "execution_count": null,
   "id": "5c49f324",
   "metadata": {},
   "outputs": [],
   "source": [
    "# 从webcam中显示\n",
    "cam = cv2.VideoCapture(2)\n",
    "for vis in tqdm.tqdm(run_on_video(cam)):\n",
    "    cv2.namedWindow(WINDOW_NAME, cv2.WINDOW_NORMAL)\n",
    "    cv2.imshow(project, vis)\n",
    "    if cv2.waitKey(1) == 27:\n",
    "        break  # esc to quit\n",
    "cam.release()\n",
    "cv2.destroyAllWindows()"
   ]
  },
  {
   "cell_type": "code",
   "execution_count": null,
   "id": "8cfdeddd",
   "metadata": {},
   "outputs": [],
   "source": []
  }
 ],
 "metadata": {
  "kernelspec": {
   "display_name": "detectron2",
   "language": "python",
   "name": "detectron2"
  },
  "language_info": {
   "codemirror_mode": {
    "name": "ipython",
    "version": 3
   },
   "file_extension": ".py",
   "mimetype": "text/x-python",
   "name": "python",
   "nbconvert_exporter": "python",
   "pygments_lexer": "ipython3",
   "version": "3.6.13"
  }
 },
 "nbformat": 4,
 "nbformat_minor": 5
}